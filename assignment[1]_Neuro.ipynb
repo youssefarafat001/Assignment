{
 "cells": [
  {
   "cell_type": "code",
   "execution_count": 3,
   "id": "d112d182-436b-438e-a411-2c9746f4c427",
   "metadata": {},
   "outputs": [
    {
     "name": "stdout",
     "output_type": "stream",
     "text": [
      "Output of the network: [[0.59295538]\n",
      " [0.50603598]]\n"
     ]
    }
   ],
   "source": [
    "import numpy as np\n",
    "\n",
    "def tanh(x):\n",
    "    return np.tanh(x)\n",
    "def initialize_weights(layer_sizes):\n",
    "    weights = {}\n",
    "    for i in range(1, len(layer_sizes)):\n",
    "        weights[f'W{i}'] = np.random.uniform(-0.5, 0.5, (layer_sizes[i-1], layer_sizes[i]))\n",
    "        weights[f'b{i}'] = np.random.uniform(-0.5, 0.5, (1, layer_sizes[i]))\n",
    "    return weights\n",
    "def forward_pass(inputs, weights, biases):\n",
    "    h1 = tanh(np.dot(inputs, weights['W1']) + biases['b1'])\n",
    "    h2 = tanh(np.dot(inputs, weights['W2']) + biases['b1'])\n",
    "    output = tanh(np.dot(np.array([h1, h2]), weights['W3']) + biases['b2'])\n",
    "    return output\n",
    "layer_sizes = [2, 2, 1]  \n",
    "\n",
    "weights = {\n",
    "    'W1': np.random.uniform(-0.5, 0.5, (2, 2)),\n",
    "    'W2': np.random.uniform(-0.5, 0.5, (2, 2)),\n",
    "    'W3': np.random.uniform(-0.5, 0.5, (2, 1))\n",
    "}\n",
    "\n",
    "biases = {\n",
    "    'b1': np.array([0.5, 0.5]),  \n",
    "    'b2': np.array([0.7])        \n",
    "}\n",
    "inputs = np.array([0.75336507, 0.593269992])\n",
    "\n",
    "output = forward_pass(inputs, weights, biases)\n",
    "\n",
    "print(\"Output of the network:\", output)"
   ]
  },
  {
   "cell_type": "code",
   "execution_count": null,
   "id": "465a3763-89cf-471f-8fd6-fffb951a6bbb",
   "metadata": {},
   "outputs": [],
   "source": []
  }
 ],
 "metadata": {
  "kernelspec": {
   "display_name": "Python 3 (ipykernel)",
   "language": "python",
   "name": "python3"
  },
  "language_info": {
   "codemirror_mode": {
    "name": "ipython",
    "version": 3
   },
   "file_extension": ".py",
   "mimetype": "text/x-python",
   "name": "python",
   "nbconvert_exporter": "python",
   "pygments_lexer": "ipython3",
   "version": "3.12.4"
  }
 },
 "nbformat": 4,
 "nbformat_minor": 5
}
