{
 "cells": [
  {
   "cell_type": "code",
   "execution_count": 1,
   "id": "4410f53f-9170-40af-88f3-8c25f73de472",
   "metadata": {},
   "outputs": [
    {
     "name": "stdout",
     "output_type": "stream",
     "text": [
      "Output after forward pass: [0.75136507 0.77292847]\n",
      "Total error: 0.2983711087600027\n",
      "Updated weights input to hidden layer:\n",
      " [[0.14981764 0.24978819]\n",
      " [0.19963528 0.29957637]]\n",
      "Updated weights hidden to output layer:\n",
      " [[0.35891648 0.51130127]\n",
      " [0.40866619 0.56137012]]\n",
      "Updated biases for hidden layer: [0.34635277 0.3457637 ]\n",
      "Updated biases for output layer: [0.53075072 0.61904912]\n"
     ]
    }
   ],
   "source": [
    "import numpy as np\n",
    "\n",
    "def sigmoid(x):\n",
    "    return 1 / (1 + np.exp(-x))\n",
    "\n",
    "def sigmoid_derivative(x):\n",
    "    return x * (1 - x)\n",
    "\n",
    "inputs = np.array([0.05, 0.10])\n",
    "targets = np.array([0.01, 0.99])\n",
    "\n",
    "weights_input_hidden = np.array([[0.15, 0.25], [0.20, 0.30]])\n",
    "weights_hidden_output = np.array([[0.40, 0.50], [0.45, 0.55]])\n",
    "bias_hidden = np.array([0.35, 0.35])\n",
    "bias_output = np.array([0.60, 0.60])\n",
    "\n",
    "learning_rate = 0.5\n",
    "\n",
    "\n",
    "hidden_layer_input = np.dot(inputs, weights_input_hidden) + bias_hidden\n",
    "hidden_layer_output = sigmoid(hidden_layer_input)\n",
    "\n",
    "output_layer_input = np.dot(hidden_layer_output, weights_hidden_output) + bias_output\n",
    "output_layer_output = sigmoid(output_layer_input)\n",
    "\n",
    "error_output = 0.5 * np.sum((targets - output_layer_output) ** 2)\n",
    "\n",
    "d_error_output = -(targets - output_layer_output)\n",
    "d_output_layer = d_error_output * sigmoid_derivative(output_layer_output)\n",
    "\n",
    "d_weights_hidden_output = np.outer(hidden_layer_output, d_output_layer)\n",
    "weights_hidden_output -= learning_rate * d_weights_hidden_output\n",
    "bias_output -= learning_rate * d_output_layer\n",
    "\n",
    "d_hidden_layer = np.dot(d_output_layer, weights_hidden_output.T) * sigmoid_derivative(hidden_layer_output)\n",
    "\n",
    "d_weights_input_hidden = np.outer(inputs, d_hidden_layer)\n",
    "weights_input_hidden -= learning_rate * d_weights_input_hidden\n",
    "bias_hidden -= learning_rate * d_hidden_layer\n",
    "\n",
    "print(\"Output after forward pass:\", output_layer_output)\n",
    "print(\"Total error:\", error_output)\n",
    "print(\"Updated weights input to hidden layer:\\n\", weights_input_hidden)\n",
    "print(\"Updated weights hidden to output layer:\\n\", weights_hidden_output)\n",
    "print(\"Updated biases for hidden layer:\", bias_hidden)\n",
    "print(\"Updated biases for output layer:\", bias_output)"
   ]
  },
  {
   "cell_type": "code",
   "execution_count": null,
   "id": "155778cd-2bca-449f-b9a8-0c8921fd2a35",
   "metadata": {},
   "outputs": [],
   "source": []
  }
 ],
 "metadata": {
  "kernelspec": {
   "display_name": "Python 3 (ipykernel)",
   "language": "python",
   "name": "python3"
  },
  "language_info": {
   "codemirror_mode": {
    "name": "ipython",
    "version": 3
   },
   "file_extension": ".py",
   "mimetype": "text/x-python",
   "name": "python",
   "nbconvert_exporter": "python",
   "pygments_lexer": "ipython3",
   "version": "3.12.4"
  }
 },
 "nbformat": 4,
 "nbformat_minor": 5
}
