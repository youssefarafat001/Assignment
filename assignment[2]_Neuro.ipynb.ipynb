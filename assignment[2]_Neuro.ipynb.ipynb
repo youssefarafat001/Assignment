{
  "nbformat": 4,
  "nbformat_minor": 0,
  "metadata": {
    "colab": {
      "provenance": []
    },
    "kernelspec": {
      "name": "python3",
      "display_name": "Python 3"
    },
    "language_info": {
      "name": "python"
    }
  },
  "cells": [
    {
      "cell_type": "code",
      "execution_count": 1,
      "metadata": {
        "colab": {
          "base_uri": "https://localhost:8080/"
        },
        "id": "PR0gIprfS4AU",
        "outputId": "ad2d32fb-9e7a-4508-fe76-3381851e942d"
      },
      "outputs": [
        {
          "output_type": "stream",
          "name": "stdout",
          "text": [
            "Epoch 0, Loss: 0.127915\n",
            "Epoch 1000, Loss: 0.124984\n",
            "Epoch 2000, Loss: 0.124913\n",
            "Epoch 3000, Loss: 0.124824\n",
            "Epoch 4000, Loss: 0.124703\n",
            "Epoch 5000, Loss: 0.124519\n",
            "Epoch 6000, Loss: 0.124221\n",
            "Epoch 7000, Loss: 0.123699\n",
            "Epoch 8000, Loss: 0.122717\n",
            "Epoch 9000, Loss: 0.120793\n",
            "\n",
            "Predictions:\n",
            "[[0.45920139]\n",
            " [0.44385503]\n",
            " [0.58575287]\n",
            " [0.49494702]]\n",
            "\n",
            "Targets:\n",
            "[[0]\n",
            " [1]\n",
            " [1]\n",
            " [0]]\n"
          ]
        }
      ],
      "source": [
        "import numpy as np\n",
        "\n",
        "def sigmoid(z):\n",
        "    return 1 / (1 + np.exp(-z))\n",
        "\n",
        "def train_neural_network(X, Y, n_hidden=2, learning_rate=0.1, epochs=10000):\n",
        "    n_samples, n_features = X.shape\n",
        "    n_output = Y.shape[1]\n",
        "\n",
        "    np.random.seed(42)\n",
        "    W1 = np.random.randn(n_features, n_hidden)\n",
        "    b1 = np.zeros((n_hidden,))\n",
        "    W2 = np.random.randn(n_hidden, n_output)\n",
        "    b2 = np.zeros((n_output,))\n",
        "\n",
        "    for epoch in range(epochs):\n",
        "        Z1 = X @ W1 + b1\n",
        "        A1 = sigmoid(Z1)\n",
        "        Z2 = A1 @ W2 + b2\n",
        "        A2 = sigmoid(Z2)\n",
        "\n",
        "        loss = 0.5 * np.mean((A2 - Y) ** 2)\n",
        "        if epoch % 1000 == 0:\n",
        "            print(f\"Epoch {epoch}, Loss: {loss:.6f}\")\n",
        "\n",
        "        dL_dA2 = A2 - Y\n",
        "        dA2_dZ2 = A2 * (1 - A2)\n",
        "        dL_dZ2 = dL_dA2 * dA2_dZ2\n",
        "\n",
        "        dL_dW2 = A1.T @ dL_dZ2 / n_samples\n",
        "        dL_db2 = np.sum(dL_dZ2, axis=0) / n_samples\n",
        "\n",
        "        dL_dA1 = dL_dZ2 @ W2.T\n",
        "        dA1_dZ1 = A1 * (1 - A1)\n",
        "        dL_dZ1 = dL_dA1 * dA1_dZ1\n",
        "\n",
        "        dL_dW1 = X.T @ dL_dZ1 / n_samples\n",
        "        dL_db1 = np.sum(dL_dZ1, axis=0) / n_samples\n",
        "\n",
        "        W2 -= learning_rate * dL_dW2\n",
        "        b2 -= learning_rate * dL_db2\n",
        "        W1 -= learning_rate * dL_dW1\n",
        "        b1 -= learning_rate * dL_db1\n",
        "\n",
        "    return W1, b1, W2, b2\n",
        "\n",
        "def predict(X, W1, b1, W2, b2):\n",
        "    Z1 = X @ W1 + b1\n",
        "    A1 = sigmoid(Z1)\n",
        "    Z2 = A1 @ W2 + b2\n",
        "    A2 = sigmoid(Z2)\n",
        "    return A2\n",
        "\n",
        "X = np.array([[0, 0], [0, 1], [1, 0], [1, 1]])\n",
        "Y = np.array([[0], [1], [1], [0]])\n",
        "\n",
        "W1, b1, W2, b2 = train_neural_network(X, Y, n_hidden=2, learning_rate=0.1, epochs=10000)\n",
        "predictions = predict(X, W1, b1, W2, b2)\n",
        "print(\"\\nPredictions:\")\n",
        "print(predictions)\n",
        "print(\"\\nTargets:\")\n",
        "print(Y)"
      ]
    }
  ]
}